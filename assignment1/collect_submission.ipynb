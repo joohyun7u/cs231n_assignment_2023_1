{
 "cells": [
  {
   "cell_type": "code",
   "execution_count": 6,
   "id": "81824ab8",
   "metadata": {},
   "outputs": [],
   "source": [
    "# from google.colab import drive\n",
    "\n",
    "# drive.mount('/content/drive')\n",
    "\n",
    "# TODO: Enter the path in your Drive of the assignment.\n",
    "# e.g. 'cs231n/assignments/assignment1/'\n",
    "FOLDERNAME = 'assignment1'\n",
    "\n",
    "assert FOLDERNAME is not None, \"[!] Enter the foldername.\""
   ]
  },
  {
   "attachments": {},
   "cell_type": "markdown",
   "id": "6be91a6a",
   "metadata": {},
   "source": [
    "# Collect Submission - Zip + Generate PDF \n",
    "\n",
    "Run this notebook once you have completed all the other notebooks: `knn.ipynb`, `svm.ipynb`, `softmax.ipynb`, `two_layer_net.ipynb` and `features.ipynb`).\n",
    "\n",
    "It will:\n",
    "\n",
    "* Generate a zip file of your code (`.py` and `.ipynb`) called `a1_code_submission.zip`.\n",
    "* Convert all notebooks into a single PDF file called `a1_inline_submission.pdf`.\n",
    "\n",
    "If your submission for this step was successful, you should see the following display message:\n",
    "\n",
    "`### Done! Please submit a1_code_submission.zip and a1_inline_submission.pdf to Gradescope. ###`\n",
    "\n",
    "Make sure to download the zip and pdf file locally to your computer, then submit to Gradescope. Congrats on succesfully completing the assignment!"
   ]
  },
  {
   "cell_type": "code",
   "execution_count": 3,
   "id": "aa146f82",
   "metadata": {},
   "outputs": [
    {
     "name": "stdout",
     "output_type": "stream",
     "text": [
      "/Users/jmacbook14pro/Library/CloudStorage/OneDrive-경희대학교/KHU Lecture/!!학부연구생/cs231n\n",
      "/Users/jmacbook14pro/Library/CloudStorage/OneDrive-경희대학교/KHU Lecture/!!학부연구생/cs231n/assignment1\n",
      "Password:\n",
      "sudo: a password is required\n",
      "Collecting PyPDF2\n",
      "  Downloading pypdf2-3.0.1-py3-none-any.whl (232 kB)\n",
      "\u001b[2K     \u001b[90m━━━━━━━━━━━━━━━━━━━━━━━━━━━━━━━━━━━━━\u001b[0m \u001b[32m232.6/232.6 kB\u001b[0m \u001b[31m714.8 kB/s\u001b[0m eta \u001b[36m0:00:00\u001b[0ma \u001b[36m0:00:01\u001b[0m\n",
      "\u001b[?25hRequirement already satisfied: typing_extensions>=3.10.0.0 in /Users/jmacbook14pro/opt/anaconda3/envs/pytorch/lib/python3.9/site-packages (from PyPDF2) (4.4.0)\n",
      "Installing collected packages: PyPDF2\n",
      "Successfully installed PyPDF2-3.0.1\n",
      "### Zipping file ###\n",
      "### Creating PDFs ###\n",
      "Created PDF knn.ipynb.\n",
      "Created PDF svm.ipynb.\n",
      "Created PDF softmax.ipynb.\n",
      "Created PDF two_layer_net.ipynb.\n",
      "Created PDF features.ipynb.\n",
      "Traceback (most recent call last):\n",
      "  File \"/Users/jmacbook14pro/Library/CloudStorage/OneDrive-경희대학교/KHU Lecture/!!학부연구생/cs231n/assignment1/makepdf.py\", line 45, in <module>\n",
      "    main(args.notebooks, args.pdf_filename)\n",
      "  File \"/Users/jmacbook14pro/Library/CloudStorage/OneDrive-경희대학교/KHU Lecture/!!학부연구생/cs231n/assignment1/makepdf.py\", line 31, in main\n",
      "    merger.append(pdf)\n",
      "  File \"/Users/jmacbook14pro/opt/anaconda3/envs/pytorch/lib/python3.9/site-packages/PyPDF2/_utils.py\", line 417, in wrapper\n",
      "    return func(*args, **kwargs)\n",
      "  File \"/Users/jmacbook14pro/opt/anaconda3/envs/pytorch/lib/python3.9/site-packages/PyPDF2/_merger.py\", line 319, in append\n",
      "    self.merge(len(self.pages), fileobj, outline_item, pages, import_outline)\n",
      "  File \"/Users/jmacbook14pro/opt/anaconda3/envs/pytorch/lib/python3.9/site-packages/PyPDF2/_utils.py\", line 417, in wrapper\n",
      "    return func(*args, **kwargs)\n",
      "  File \"/Users/jmacbook14pro/opt/anaconda3/envs/pytorch/lib/python3.9/site-packages/PyPDF2/_merger.py\", line 194, in merge\n",
      "    stream, encryption_obj = self._create_stream(fileobj)\n",
      "  File \"/Users/jmacbook14pro/opt/anaconda3/envs/pytorch/lib/python3.9/site-packages/PyPDF2/_merger.py\", line 263, in _create_stream\n",
      "    stream = FileIO(fileobj, \"rb\")\n",
      "FileNotFoundError: [Errno 2] No such file or directory: 'knn.pdf'\n"
     ]
    }
   ],
   "source": [
    "# %cd drive/My\\ Drive\n",
    "%cd /Users/jmacbook14pro/Library/CloudStorage/OneDrive-경희대학교/KHU Lecture/!!학부연구생/cs231n/\n",
    "%cd $FOLDERNAME\n",
    "!sudo apt-get install texlive-xetex texlive-fonts-recommended texlive-plain-generic\n",
    "!pip install PyPDF2\n",
    "!bash collectSubmission.sh"
   ]
  },
  {
   "cell_type": "code",
   "execution_count": 5,
   "id": "74931841",
   "metadata": {},
   "outputs": [
    {
     "name": "stdout",
     "output_type": "stream",
     "text": [
      "### Zipping file ###\n",
      "### Creating PDFs ###\n",
      "Created PDF knn.ipynb.\n",
      "Created PDF svm.ipynb.\n",
      "Created PDF softmax.ipynb.\n",
      "Created PDF two_layer_net.ipynb.\n",
      "Created PDF features.ipynb.\n",
      "Traceback (most recent call last):\n",
      "  File \"/Users/jmacbook14pro/Library/CloudStorage/OneDrive-경희대학교/KHU Lecture/!!학부연구생/cs231n/assignment1/makepdf.py\", line 45, in <module>\n",
      "    main(args.notebooks, args.pdf_filename)\n",
      "  File \"/Users/jmacbook14pro/Library/CloudStorage/OneDrive-경희대학교/KHU Lecture/!!학부연구생/cs231n/assignment1/makepdf.py\", line 31, in main\n",
      "    merger.append(pdf)\n",
      "  File \"/Users/jmacbook14pro/opt/anaconda3/envs/pytorch/lib/python3.9/site-packages/PyPDF2/_utils.py\", line 417, in wrapper\n",
      "    return func(*args, **kwargs)\n",
      "  File \"/Users/jmacbook14pro/opt/anaconda3/envs/pytorch/lib/python3.9/site-packages/PyPDF2/_merger.py\", line 319, in append\n",
      "    self.merge(len(self.pages), fileobj, outline_item, pages, import_outline)\n",
      "  File \"/Users/jmacbook14pro/opt/anaconda3/envs/pytorch/lib/python3.9/site-packages/PyPDF2/_utils.py\", line 417, in wrapper\n",
      "    return func(*args, **kwargs)\n",
      "  File \"/Users/jmacbook14pro/opt/anaconda3/envs/pytorch/lib/python3.9/site-packages/PyPDF2/_merger.py\", line 194, in merge\n",
      "    stream, encryption_obj = self._create_stream(fileobj)\n",
      "  File \"/Users/jmacbook14pro/opt/anaconda3/envs/pytorch/lib/python3.9/site-packages/PyPDF2/_merger.py\", line 263, in _create_stream\n",
      "    stream = FileIO(fileobj, \"rb\")\n",
      "FileNotFoundError: [Errno 2] No such file or directory: 'knn.pdf'\n"
     ]
    }
   ],
   "source": [
    "!bash collectSubmission.sh"
   ]
  },
  {
   "cell_type": "code",
   "execution_count": null,
   "id": "43dcfbbf",
   "metadata": {},
   "outputs": [],
   "source": []
  }
 ],
 "metadata": {
  "kernelspec": {
   "display_name": "pytorch",
   "language": "python",
   "name": "python3"
  },
  "language_info": {
   "codemirror_mode": {
    "name": "ipython",
    "version": 3
   },
   "file_extension": ".py",
   "mimetype": "text/x-python",
   "name": "python",
   "nbconvert_exporter": "python",
   "pygments_lexer": "ipython3",
   "version": "3.9.16"
  }
 },
 "nbformat": 4,
 "nbformat_minor": 5
}
