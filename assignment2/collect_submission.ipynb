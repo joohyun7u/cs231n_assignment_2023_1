{
 "cells": [
  {
   "cell_type": "code",
   "execution_count": null,
   "metadata": {},
   "outputs": [],
   "source": [
    "from google.colab import drive\n",
    "\n",
    "drive.mount('/content/drive')\n",
    "\n",
    "# TODO: Enter the path in your Drive of the assignment.\n",
    "# e.g. 'cs231n/assignments/assignment2/'\n",
    "FOLDERNAME = None\n",
    "\n",
    "assert FOLDERNAME is not None, \"[!] Enter the foldername.\""
   ]
  },
  {
   "attachments": {},
   "cell_type": "markdown",
   "metadata": {},
   "source": [
    "# Collect Submission - Zip + Generate PDF \n",
    "\n",
    "Run this notebook once you have completed all the other notebooks: `FullyConnectedNets.ipynb`, `BatchNormalization.ipynb`, `Dropout.ipynb`, `ConvolutionalNetworks.ipynb`, `PyTorch.ipynb`).\n",
    "\n",
    "It will:\n",
    "\n",
    "* Generate a zip file of your code (`.py` and `.ipynb`) called `a2_code_submission.zip`.\n",
    "* Convert all notebooks into a single PDF file called `a2_inline_submission.pdf`.\n",
    "\n",
    "If your submission for this step was successful, you should see the following display message:\n",
    "\n",
    "`### Done! Please submit a2_code_submission.zip and the a2_inline_submission.pdf to Gradescope. ###`\n",
    "\n",
    "Make sure to download the zip and pdf file locally to your computer, then submit to Gradescope. Congrats on succesfully completing the assignment!"
   ]
  },
  {
   "cell_type": "code",
   "execution_count": null,
   "metadata": {},
   "outputs": [],
   "source": [
    "%cd drive/My\\ Drive/$FOLDERNAME\n",
    "!sudo apt-get update\n",
    "!sudo apt-get install texlive-xetex texlive-fonts-recommended texlive-plain-generic\n",
    "!pip install PyPDF2\n",
    "!bash collectSubmission.sh"
   ]
  },
  {
   "cell_type": "code",
   "execution_count": 1,
   "metadata": {},
   "outputs": [
    {
     "name": "stdout",
     "output_type": "stream",
     "text": [
      "[Errno 2] No such file or directory: '/Users/jmacbook14pro/Library/CloudStorage/OneDrive-경희대학교/KHU Lecture/!!학부연구생/cs231n/'\n",
      "/Users/jmacbook14pro/Library/CloudStorage/OneDrive-경희대학교/KHU Lecture/!!학부연구생/cs231n_assignment_2023_1/assignment2\n",
      "[Errno 2] No such file or directory: 'assignment2'\n",
      "/Users/jmacbook14pro/Library/CloudStorage/OneDrive-경희대학교/KHU Lecture/!!학부연구생/cs231n_assignment_2023_1/assignment2\n",
      "### Zipping file ###\n",
      "### Creating PDFs ###\n",
      "Created PDF FullyConnectedNets.ipynb.\n",
      "Created PDF BatchNormalization.ipynb.\n",
      "Created PDF Dropout.ipynb.\n",
      "Created PDF ConvolutionalNetworks.ipynb.\n",
      "Created PDF PyTorch.ipynb.\n",
      "Traceback (most recent call last):\n",
      "  File \"/Users/jmacbook14pro/Library/CloudStorage/OneDrive-경희대학교/KHU Lecture/!!학부연구생/cs231n_assignment_2023_1/assignment2/makepdf.py\", line 45, in <module>\n",
      "    main(args.notebooks, args.pdf_filename)\n",
      "  File \"/Users/jmacbook14pro/Library/CloudStorage/OneDrive-경희대학교/KHU Lecture/!!학부연구생/cs231n_assignment_2023_1/assignment2/makepdf.py\", line 31, in main\n",
      "    merger.append(pdf)\n",
      "  File \"/Users/jmacbook14pro/opt/anaconda3/envs/pytorch/lib/python3.9/site-packages/PyPDF2/_utils.py\", line 417, in wrapper\n",
      "    return func(*args, **kwargs)\n",
      "  File \"/Users/jmacbook14pro/opt/anaconda3/envs/pytorch/lib/python3.9/site-packages/PyPDF2/_merger.py\", line 319, in append\n",
      "    self.merge(len(self.pages), fileobj, outline_item, pages, import_outline)\n",
      "  File \"/Users/jmacbook14pro/opt/anaconda3/envs/pytorch/lib/python3.9/site-packages/PyPDF2/_utils.py\", line 417, in wrapper\n",
      "    return func(*args, **kwargs)\n",
      "  File \"/Users/jmacbook14pro/opt/anaconda3/envs/pytorch/lib/python3.9/site-packages/PyPDF2/_merger.py\", line 194, in merge\n",
      "    stream, encryption_obj = self._create_stream(fileobj)\n",
      "  File \"/Users/jmacbook14pro/opt/anaconda3/envs/pytorch/lib/python3.9/site-packages/PyPDF2/_merger.py\", line 263, in _create_stream\n",
      "    stream = FileIO(fileobj, \"rb\")\n",
      "FileNotFoundError: [Errno 2] No such file or directory: 'FullyConnectedNets.pdf'\n"
     ]
    }
   ],
   "source": [
    "FOLDERNAME = 'assignment2'\n",
    "%cd /Users/jmacbook14pro/Library/CloudStorage/OneDrive-경희대학교/KHU Lecture/!!학부연구생/cs231n/\n",
    "%cd $FOLDERNAME\n",
    "!bash collectSubmission.sh"
   ]
  },
  {
   "cell_type": "code",
   "execution_count": null,
   "metadata": {},
   "outputs": [],
   "source": []
  }
 ],
 "metadata": {
  "kernelspec": {
   "display_name": "pytorch",
   "language": "python",
   "name": "python3"
  },
  "language_info": {
   "codemirror_mode": {
    "name": "ipython",
    "version": 3
   },
   "file_extension": ".py",
   "mimetype": "text/x-python",
   "name": "python",
   "nbconvert_exporter": "python",
   "pygments_lexer": "ipython3",
   "version": "3.9.16"
  }
 },
 "nbformat": 4,
 "nbformat_minor": 2
}
